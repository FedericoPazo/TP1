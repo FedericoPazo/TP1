{
 "cells": [
  {
   "cell_type": "code",
   "execution_count": 1,
   "metadata": {},
   "outputs": [],
   "source": [
    "import pandas as pd\n",
    "import numpy as np\n",
    "import seaborn as sns\n",
    "import matplotlib.pyplot as plt\n",
    "import datetime\n",
    "import re"
   ]
  },
  {
   "cell_type": "code",
   "execution_count": 2,
   "metadata": {},
   "outputs": [],
   "source": [
    "source = \"C:/Users/bruno/Documents/DS/ds_blend_students_2020/TP1/properati.csv\""
   ]
  },
  {
   "cell_type": "code",
   "execution_count": 3,
   "metadata": {},
   "outputs": [],
   "source": [
    "data = pd.read_csv(source)"
   ]
  },
  {
   "cell_type": "code",
   "execution_count": 4,
   "metadata": {},
   "outputs": [
    {
     "data": {
      "text/html": [
       "<div>\n",
       "<style scoped>\n",
       "    .dataframe tbody tr th:only-of-type {\n",
       "        vertical-align: middle;\n",
       "    }\n",
       "\n",
       "    .dataframe tbody tr th {\n",
       "        vertical-align: top;\n",
       "    }\n",
       "\n",
       "    .dataframe thead th {\n",
       "        text-align: right;\n",
       "    }\n",
       "</style>\n",
       "<table border=\"1\" class=\"dataframe\">\n",
       "  <thead>\n",
       "    <tr style=\"text-align: right;\">\n",
       "      <th></th>\n",
       "      <th>Unnamed: 0</th>\n",
       "      <th>operation</th>\n",
       "      <th>property_type</th>\n",
       "      <th>place_name</th>\n",
       "      <th>place_with_parent_names</th>\n",
       "      <th>country_name</th>\n",
       "      <th>state_name</th>\n",
       "      <th>geonames_id</th>\n",
       "      <th>lat-lon</th>\n",
       "      <th>lat</th>\n",
       "      <th>...</th>\n",
       "      <th>surface_covered_in_m2</th>\n",
       "      <th>price_usd_per_m2</th>\n",
       "      <th>price_per_m2</th>\n",
       "      <th>floor</th>\n",
       "      <th>rooms</th>\n",
       "      <th>expenses</th>\n",
       "      <th>properati_url</th>\n",
       "      <th>description</th>\n",
       "      <th>title</th>\n",
       "      <th>image_thumbnail</th>\n",
       "    </tr>\n",
       "  </thead>\n",
       "  <tbody>\n",
       "    <tr>\n",
       "      <th>0</th>\n",
       "      <td>0</td>\n",
       "      <td>sell</td>\n",
       "      <td>PH</td>\n",
       "      <td>Mataderos</td>\n",
       "      <td>|Argentina|Capital Federal|Mataderos|</td>\n",
       "      <td>Argentina</td>\n",
       "      <td>Capital Federal</td>\n",
       "      <td>3430787.0</td>\n",
       "      <td>-34.6618237,-58.5088387</td>\n",
       "      <td>-34.661824</td>\n",
       "      <td>...</td>\n",
       "      <td>40.0</td>\n",
       "      <td>1127.272727</td>\n",
       "      <td>1550.0</td>\n",
       "      <td>NaN</td>\n",
       "      <td>NaN</td>\n",
       "      <td>NaN</td>\n",
       "      <td>http://www.properati.com.ar/15bo8_venta_ph_mat...</td>\n",
       "      <td>2 AMBIENTES TIPO CASA PLANTA BAJA POR PASILLO,...</td>\n",
       "      <td>2 AMB TIPO CASA SIN EXPENSAS EN PB</td>\n",
       "      <td>https://thumbs4.properati.com/8/BluUYiHJLhgIIK...</td>\n",
       "    </tr>\n",
       "    <tr>\n",
       "      <th>1</th>\n",
       "      <td>1</td>\n",
       "      <td>sell</td>\n",
       "      <td>apartment</td>\n",
       "      <td>La Plata</td>\n",
       "      <td>|Argentina|Bs.As. G.B.A. Zona Sur|La Plata|</td>\n",
       "      <td>Argentina</td>\n",
       "      <td>Bs.As. G.B.A. Zona Sur</td>\n",
       "      <td>3432039.0</td>\n",
       "      <td>-34.9038831,-57.9643295</td>\n",
       "      <td>-34.903883</td>\n",
       "      <td>...</td>\n",
       "      <td>NaN</td>\n",
       "      <td>NaN</td>\n",
       "      <td>NaN</td>\n",
       "      <td>NaN</td>\n",
       "      <td>NaN</td>\n",
       "      <td>NaN</td>\n",
       "      <td>http://www.properati.com.ar/15bob_venta_depart...</td>\n",
       "      <td>Venta de departamento en décimo piso al frente...</td>\n",
       "      <td>VENTA Depto 2 dorm. a estrenar 7 e/ 36 y 37   ...</td>\n",
       "      <td>https://thumbs4.properati.com/7/ikpVBu2ztHA7jv...</td>\n",
       "    </tr>\n",
       "  </tbody>\n",
       "</table>\n",
       "<p>2 rows × 26 columns</p>\n",
       "</div>"
      ],
      "text/plain": [
       "   Unnamed: 0 operation property_type place_name  \\\n",
       "0           0      sell            PH  Mataderos   \n",
       "1           1      sell     apartment   La Plata   \n",
       "\n",
       "                       place_with_parent_names country_name  \\\n",
       "0        |Argentina|Capital Federal|Mataderos|    Argentina   \n",
       "1  |Argentina|Bs.As. G.B.A. Zona Sur|La Plata|    Argentina   \n",
       "\n",
       "               state_name  geonames_id                  lat-lon        lat  \\\n",
       "0         Capital Federal    3430787.0  -34.6618237,-58.5088387 -34.661824   \n",
       "1  Bs.As. G.B.A. Zona Sur    3432039.0  -34.9038831,-57.9643295 -34.903883   \n",
       "\n",
       "   ...  surface_covered_in_m2  price_usd_per_m2 price_per_m2  floor  rooms  \\\n",
       "0  ...                   40.0       1127.272727       1550.0    NaN    NaN   \n",
       "1  ...                    NaN               NaN          NaN    NaN    NaN   \n",
       "\n",
       "   expenses                                      properati_url  \\\n",
       "0       NaN  http://www.properati.com.ar/15bo8_venta_ph_mat...   \n",
       "1       NaN  http://www.properati.com.ar/15bob_venta_depart...   \n",
       "\n",
       "                                         description  \\\n",
       "0  2 AMBIENTES TIPO CASA PLANTA BAJA POR PASILLO,...   \n",
       "1  Venta de departamento en décimo piso al frente...   \n",
       "\n",
       "                                               title  \\\n",
       "0                 2 AMB TIPO CASA SIN EXPENSAS EN PB   \n",
       "1  VENTA Depto 2 dorm. a estrenar 7 e/ 36 y 37   ...   \n",
       "\n",
       "                                     image_thumbnail  \n",
       "0  https://thumbs4.properati.com/8/BluUYiHJLhgIIK...  \n",
       "1  https://thumbs4.properati.com/7/ikpVBu2ztHA7jv...  \n",
       "\n",
       "[2 rows x 26 columns]"
      ]
     },
     "execution_count": 4,
     "metadata": {},
     "output_type": "execute_result"
    }
   ],
   "source": [
    "data.head(2)"
   ]
  },
  {
   "cell_type": "code",
   "execution_count": 4,
   "metadata": {},
   "outputs": [
    {
     "data": {
      "text/plain": [
       "Index(['Unnamed: 0', 'operation', 'property_type', 'place_name',\n",
       "       'place_with_parent_names', 'country_name', 'state_name', 'geonames_id',\n",
       "       'lat-lon', 'lat', 'lon', 'price', 'currency',\n",
       "       'price_aprox_local_currency', 'price_aprox_usd', 'surface_total_in_m2',\n",
       "       'surface_covered_in_m2', 'price_usd_per_m2', 'price_per_m2', 'floor',\n",
       "       'rooms', 'expenses', 'properati_url', 'description', 'title',\n",
       "       'image_thumbnail'],\n",
       "      dtype='object')"
      ]
     },
     "execution_count": 4,
     "metadata": {},
     "output_type": "execute_result"
    }
   ],
   "source": [
    "data.columns"
   ]
  },
  {
   "cell_type": "code",
   "execution_count": 5,
   "metadata": {},
   "outputs": [],
   "source": [
    "regex = r\"exp\\w*\\.?\\s?\\w*\\s*(?:\\d\\/\\d{2,4})?\\w+?\\s*\\w*\\s*\\w*\\s*\\$?\\s*(\\b\\d?\\d\\.?\\,?\\d[^1]\\d\\b)|\\$?\\s*(\\b\\d?\\d\\.?\\,?\\d[^1]\\d\\b)\\s*\\w*\\s*\\w*\\s*exp\\w\"\n",
    "pattern = re.compile(regex,re.IGNORECASE)\n",
    "regex0 = r\"exp\\w+\\s?\\w+?\\s?\\w+?\\s?\\$?\\s?(\\d?\\d?.?\\d{3})|\\$?\\s?(\\d?\\d?.?\\d{3})\\s?\\w+?\\s?\\w+?\\s?exp\\w+\"\n",
    "pattern0 = re.compile(regex0,re.IGNORECASE)\n",
    "reg_num = r\"(\\d?\\d\\.?\\,?\\d{2,3})[^m2|x]\"\n",
    "pattern_num = re.compile(reg_num,re.IGNORECASE)"
   ]
  },
  {
   "cell_type": "code",
   "execution_count": 6,
   "metadata": {},
   "outputs": [
    {
     "name": "stdout",
     "output_type": "stream",
     "text": [
      "buen dpto. de 3 ambientes frente a la plaza. Living comedor pisos de piedra laja, con balcon, toil, cocina con lavadero, 2 dormitorios con piso flotante, baÃ±o completo.cochera.expensas $ 2.890.-\n",
      "\n",
      "Corredor Responsable: Mariano Aufseher - CUCICBA 4251Contacto: Gustavo Esteban - MLS ID # 420251022-249Excelente 2 amb con balcón y baulera de 9mtrs en el mismo piso. Edificio de Categoría y con seguridad las 24hs, varios ascensores. Vista a toda la ciudad ya que se encuentra ubicado en el Piso 20. Los ascensores llegan al piso 19 y se accede x escalera. Losa radiante, grupo electrógeno, dándole luz a los ascensores, agua y pasillos. Muy luminoso. En muy buenas condiciones, cocina amplia y lugar para mesa (6 personas) y lavadero separado con calefón nuevo . Pisos de comedor y dormitorio de madera parquet. Tiene persianas también de madera, expensas $2600, al mes de julio 2017. ABL $70. Muy buena administración. Hay en edificio mucho espacio con cocheras y oportunidad para alquilar ya que el inquilino alquilaba una. Zona excelente de Caballito, Comercios, Bancos, Restaurantes, Colectivos, Subte \"A\" y Tren. Zona para invertir.  Comedor(6 x 2,90). Cocina (5 x 1,50). Dormitorio (2,70 x 4). Baño (2,30 x 1,30). Balcón ( 1,40 x 5 ). INVIERTA AHORA!!! Los metros aquí publicados son aproximados. Los reales surgen de la escritura. Esta publicidad respeta lo establecido en el art. 4 y 8 ley 24.240. \n"
     ]
    }
   ],
   "source": [
    "lista_prueba = [data.description[114],data.description[166]]\n",
    "print(lista_prueba[0])\n",
    "print()\n",
    "print(lista_prueba[1])"
   ]
  },
  {
   "cell_type": "code",
   "execution_count": 7,
   "metadata": {},
   "outputs": [
    {
     "data": {
      "text/plain": [
       "'buen dpto. de 3 ambientes frente a la plaza. Living comedor pisos de piedra laja, con balcon, toil, cocina con lavadero, 2 dormitorios con piso flotante, baÃ±o completo.cochera.expensas $ 2.890.-'"
      ]
     },
     "execution_count": 7,
     "metadata": {},
     "output_type": "execute_result"
    }
   ],
   "source": [
    "data.description[114]"
   ]
  },
  {
   "cell_type": "code",
   "execution_count": 8,
   "metadata": {},
   "outputs": [
    {
     "data": {
      "text/plain": [
       "str"
      ]
     },
     "execution_count": 8,
     "metadata": {},
     "output_type": "execute_result"
    }
   ],
   "source": [
    "type(data.description[2])"
   ]
  },
  {
   "cell_type": "code",
   "execution_count": 9,
   "metadata": {},
   "outputs": [
    {
     "name": "stdout",
     "output_type": "stream",
     "text": [
      "<re.Match object; span=(177, 193), match='expensas $ 2.890'>\n",
      "[('2.890', '')]\n"
     ]
    }
   ],
   "source": [
    "print(pattern.search(data.description[114]))\n",
    "print(re.findall(regex,data.description[114]))"
   ]
  },
  {
   "cell_type": "code",
   "execution_count": 10,
   "metadata": {},
   "outputs": [],
   "source": [
    "r = data[\"description\"].apply(lambda x: None if x is np.NaN else str(x))"
   ]
  },
  {
   "cell_type": "code",
   "execution_count": 11,
   "metadata": {},
   "outputs": [
    {
     "data": {
      "text/plain": [
       "0         None\n",
       "1         None\n",
       "2         None\n",
       "3         None\n",
       "4         None\n",
       "          ... \n",
       "121215    None\n",
       "121216    None\n",
       "121217    None\n",
       "121218    None\n",
       "121219    None\n",
       "Name: description, Length: 121220, dtype: object"
      ]
     },
     "execution_count": 11,
     "metadata": {},
     "output_type": "execute_result"
    }
   ],
   "source": [
    "rdo2 = r.apply(lambda x: None if x is np.NaN else (pattern.search(str(x))))\n",
    "rdo2 = rdo2.apply(lambda x: None if x is None else x.group(1))\n",
    "rdo2"
   ]
  },
  {
   "cell_type": "code",
   "execution_count": 12,
   "metadata": {},
   "outputs": [
    {
     "data": {
      "text/plain": [
       "0         None\n",
       "1         None\n",
       "2         None\n",
       "3         None\n",
       "4         None\n",
       "          ... \n",
       "121215    None\n",
       "121216    None\n",
       "121217    None\n",
       "121218    None\n",
       "121219    None\n",
       "Name: description, Length: 121220, dtype: object"
      ]
     },
     "execution_count": 12,
     "metadata": {},
     "output_type": "execute_result"
    }
   ],
   "source": [
    "rdo0 = r.apply(lambda x: None if x is np.NaN else (pattern0.search(str(x))))\n",
    "rdo0 = rdo0.apply(lambda x: None if x is None else x.group(1))\n",
    "rdo0"
   ]
  },
  {
   "cell_type": "code",
   "execution_count": 13,
   "metadata": {},
   "outputs": [
    {
     "data": {
      "text/plain": [
       "'2.890'"
      ]
     },
     "execution_count": 13,
     "metadata": {},
     "output_type": "execute_result"
    }
   ],
   "source": [
    "rdo2[114]"
   ]
  },
  {
   "cell_type": "code",
   "execution_count": 14,
   "metadata": {},
   "outputs": [
    {
     "data": {
      "text/plain": [
       "'2.890'"
      ]
     },
     "execution_count": 14,
     "metadata": {},
     "output_type": "execute_result"
    }
   ],
   "source": [
    "rdo0[114]"
   ]
  },
  {
   "cell_type": "code",
   "execution_count": 15,
   "metadata": {},
   "outputs": [
    {
     "data": {
      "text/plain": [
       "1500      88\n",
       "2000      82\n",
       "4500      79\n",
       "1000      74\n",
       "3000      59\n",
       "          ..\n",
       "1441       1\n",
       "2665       1\n",
       "2830       1\n",
       "7.831      1\n",
       "10.050     1\n",
       "Name: description, Length: 477, dtype: int64"
      ]
     },
     "execution_count": 15,
     "metadata": {},
     "output_type": "execute_result"
    }
   ],
   "source": [
    "rdo2.value_counts()"
   ]
  },
  {
   "cell_type": "code",
   "execution_count": 16,
   "metadata": {},
   "outputs": [
    {
     "data": {
      "text/plain": [
       "2954"
      ]
     },
     "execution_count": 16,
     "metadata": {},
     "output_type": "execute_result"
    }
   ],
   "source": [
    "rdo2.value_counts().sum()"
   ]
  },
  {
   "cell_type": "code",
   "execution_count": 18,
   "metadata": {},
   "outputs": [
    {
     "data": {
      "text/plain": [
       "array([None, '6500', '1350', '2890', '2400', '2600', '3700', '2800',\n",
       "       '6000', '7500', '2300', '1250', '4800', '5500', '2900', '3600',\n",
       "       '2000', '1000', '12000', '2050', '20000', '4000', '5000', '1700',\n",
       "       '4500', '2500', '1600', '1500', '1400', '4200', '6350', '3950',\n",
       "       '15000', '6700', '14000', '10000', '10500', '7200', '4900', '2200',\n",
       "       '3390', '3000', '8300', '3900', '1300', '3500', '1200', '1100',\n",
       "       '8500', '3100', '3050', '13000', '1230', '7100', '1800', '3200',\n",
       "       '2540', '2250', '18000', '7600', '7400', '1900', '4700', '2700',\n",
       "       '3850', '8200', '3800', '3150', '1450', '4953', '16000', '8000',\n",
       "       '3400', '7000', '1578', '2100', '11000', '5100', '6600', '5900',\n",
       "       '5843', '80000', '1530', '1050', '3250', '6400', '2108', '1320',\n",
       "       '5400', '4400', '5800', '1441', '4271', '2084', '9500', '5200',\n",
       "       '11500', '7900', '4300', '17000', '2370', '2066', '6200', '9600',\n",
       "       '24000', '24240', '9000', '1850', '6800', '4600', '4100', '12500',\n",
       "       '4151', '2150', '1033', '2320', '2990', '7831', '5634', '7300',\n",
       "       '5600', '8800', '24800', '1060', '1950', '3300', '2106', '4950',\n",
       "       '1720', '19000', '6057', '1705', '6540', '2350', '1080', '6900',\n",
       "       '5270', '8700', '10400', '2363', '25000', '6130', '3984', '11200',\n",
       "       '1355', '4199', '2950', '4089', '1650', '8900', '2550', '2158',\n",
       "       '6300', '4070', '1053', '9390', '1524', '1531', '23809', '1550',\n",
       "       '1973', '2655', '2184', '5290', '4690', '12969', '16127', '1070',\n",
       "       '1150', '21000', '12970', '4250', '4470', '2376', '1730', '1746',\n",
       "       '1071', '37000', '2750', '2340', '2878', '8390', '1265', '1030',\n",
       "       '4850', '85000', '2660', '1376', '1835', '13566', '12900', '0191',\n",
       "       '1390', '3128', '4890', '2330', '7850', '2260', '7140', '12800',\n",
       "       '1750', '3020', '9800', '1784', '1351', '1985', '4230', '2233',\n",
       "       '2091', '1975', '1290', '8670', '4650', '1380', '8150', '11700',\n",
       "       '3640', '12605', '1370', '12700', '11900', '5568', '5700', '5734',\n",
       "       '2661', '9100', '35000', '12200', '21500', '1089', '1970', '1120',\n",
       "       '1760', '2835', '2650', '1161', '1981', '25005', '1091', '1090',\n",
       "       '1268', '6100', '4663', '5455', '84200', '5300', '2570', '4253',\n",
       "       '2030', '2574', '8600', '5543', '2371', '1839', '2770', '1780',\n",
       "       '7524', '1140', '2078', '3405', '9900', '5566', '5198', '6691',\n",
       "       '1391', '1520', '1690', '1996', '1356', '11300', '10200', '18800',\n",
       "       '5969', '1007', '7890', '2880', '2808', '22000', '2369', '4601',\n",
       "       '8678', '10100', '2827', '10368', '3056', '1547', '10261', '1488',\n",
       "       '12781', '2884', '2135', '2294', '2665', '7164', '1059', '3375',\n",
       "       '14600', '14500', '3570', '6950', '8170', '2168', '3650', '28000',\n",
       "       '6330', '1429', '3260', '1298', '1887', '7800', '1330', '3861',\n",
       "       '10700', '1470', '4980', '2170', '5880', '2077', '13600', '3750',\n",
       "       '1257', '27000', '3645', '12300', '2499', '3908', '10050', '1960',\n",
       "       '1169', '9990', '1779', '1570', '6264', '1237', '3164', '48000',\n",
       "       '2830', '1160'], dtype=object)"
      ]
     },
     "execution_count": 18,
     "metadata": {},
     "output_type": "execute_result"
    }
   ],
   "source": [
    "limp = rdo2.apply(lambda x: None if x is None else x.replace(\" \",\"\").replace(\".\",\"\").replace(\"$\",\"\").replace(\"(\",\"\").replace(\",\",\"\"))\n",
    "limp = limp.apply(lambda x: None if x is np.NaN else (None if x is None else pattern_num.search(str(x))))\n",
    "limp = limp.apply(lambda x: None if x is None else x.group(0))\n",
    "limp.unique()"
   ]
  },
  {
   "cell_type": "code",
   "execution_count": 19,
   "metadata": {},
   "outputs": [
    {
     "data": {
      "text/plain": [
       "<re.Match object; span=(0, 4), match='2890'>"
      ]
     },
     "execution_count": 19,
     "metadata": {},
     "output_type": "execute_result"
    }
   ],
   "source": [
    "pattern_num.search(str(limp[114]))\n",
    "#pattern_num.search(str(limp[12807]))\n",
    "#pattern_num.search(str(limp[83219]))"
   ]
  },
  {
   "cell_type": "code",
   "execution_count": 221,
   "metadata": {},
   "outputs": [],
   "source": [
    "#limp = limp.apply(lambda x: None if x is None else (None if x is np.NaN else (None if \"229x\" in x else int(x))))"
   ]
  },
  {
   "cell_type": "code",
   "execution_count": 20,
   "metadata": {},
   "outputs": [
    {
     "data": {
      "text/plain": [
       "array([None, '6.500', '1.350', '2.890', '2.400', '2600', '3.700', '2.800',\n",
       "       '3700', '6000', '7500', '2.300', '1250', '4800', '5.500', '2900',\n",
       "       '3600', '2000', '1000', '12000', '2050', '20.000', '1.000', '4000',\n",
       "       '5000', '1700', '144M2', '4.500', '4.000', '2.500', '1600',\n",
       "       '1.500', '1400', '4200', '2.000', '4500', '6350', '3950', '2500',\n",
       "       '1500', '15.000', '2.900', '6700', '5500', '14000', '10.000',\n",
       "       '10.500', '7200', '4.900', '2300', '2.200', '2.600', '3390',\n",
       "       '3000', '7.500', '8300', '3900', '1300', '3500', '1.200', '3.000',\n",
       "       '1100', '5.000', '2800', '8500', '3100', '10000', '3050', '13.000',\n",
       "       '1230', '7100', '1.800', '3.200', '2540', '6.000', '2250', '1800',\n",
       "       '18.000', '7600', '3200', '7.400', '1.900', '4.700', '1.700',\n",
       "       '2.700', '3850', '4.200', '1200', '1.300', '8.200', '3.800',\n",
       "       '1900', '1.600', '3.500', '3150', '1450', '7.200', '3800', '2200',\n",
       "       '4953', '16.000', '8.000', '3400', '7.000', '1.578', '2100',\n",
       "       '11000', '3,700', '11/2', '5.100', '6600', '5900', '13000', '5843',\n",
       "       '80.000', '14.000', '8.500', '3.400', '1.250', '1530', '1.050',\n",
       "       '3250', '6.400', '4,000', '2108', '1.400', '1320', '5.400', '10/3',\n",
       "       '4400', '5.800', '2,400', '1441', '4271', '2084', '9.500', '5200',\n",
       "       '11,500', '7900', '4.800', '2700', '4300', '17000', '2.370',\n",
       "       '2.066', '1.320', '6200', '7000', '9600', '1.100', '24.000',\n",
       "       '24.240', '9000', '5,000', '1850', '9500', '5100', '11.000',\n",
       "       '6.800', '4.600', '4100', '31/3', '12500', '4.151', '2150',\n",
       "       '8.300', '2400', '1033', '2.320', '2.990', '3.600', '7.831',\n",
       "       '8000', '1350', '5634', '7.300', '5600', '2.100', '12.000',\n",
       "       '3.100', '7.600', '8.800', '24.800', '1.060', '1950', '3300',\n",
       "       '2106', '4950', '1.720', '4700', '19000', '6057', '1705', '6540',\n",
       "       '2350', '4.400', '229x5', '1.080', '17.000', '6.900', '5400',\n",
       "       '5,270', '8700', '10.400', '4.300', '2.363', '6500', '9.000',\n",
       "       '25000', '6130', '1.872', '31/5', '3984', '5.900', '11.200',\n",
       "       '3.300', '1355', '4.199', '6.200', '2,950', '3,500', '4.089',\n",
       "       '1650', '8900', '2550', '2158', '6300', '4.070', '4900', '1053',\n",
       "       '9390', '1524', '1.531', '23.809', '1550', '1973', '2655', '3.900',\n",
       "       '2184', '5.290', '4690', '3.622', '12.969', '16.127', '1.070',\n",
       "       '1.150', '1.850', '2.350', '21.000', '12.970', '4.250', '4470',\n",
       "       '2376', '1730', '5.200', '1.746', '1.071', '37,000', '4600',\n",
       "       '50M2', '12.500', '2750', '2340', '2878', '8.390', '1.265',\n",
       "       '6.300', '1030', '4.850', '85.000', '2660', '1.376', '1835',\n",
       "       '13566', '12.900', '0191', '1390', '4.652', '3128', '7.222',\n",
       "       '4890', '20000', '2.330', '7.850', '2.260', '7140', '19.000',\n",
       "       '12.800', '1,750', '1,730', '3020', '12,000', '1750', '9.800',\n",
       "       '1784', '2.150', '1351', '1985', '4230', '2.233', '1080', '2091',\n",
       "       '6900', '1975', '1290', '8670', '4650', '1380', '8150', '11700',\n",
       "       '1,900', '11.500', '19,000', '3640', '12.605', '1.370', '8.700',\n",
       "       '12700', '15,000', '11.900', '38M2', '5800', '4582', '5.568',\n",
       "       '1702', '5700', '5.734', '2.661', '6.222', '9,100', '1,500',\n",
       "       '1050', '35.000', '12.200', '1.450', '21.500', '1.089', '1970',\n",
       "       '25.000', '1120', '1.760', '2.835', '6.600', '2650', '1161',\n",
       "       '1981', '25005', '1091', '1090', '1268', '6.100', '4.663', '5.455',\n",
       "       '84.200', '2,700', '5.300', '1692', '2.570', '4253', '2030',\n",
       "       '2.574', '8600', '5543', '2371', '1.839', '5.600', '2.770',\n",
       "       '2,300', '1780', '2.052', '7.524', '1140', '170m2', '2078',\n",
       "       '3.405', '9900', '5566', '5198', '6.691', '60M2', '1391', '1520',\n",
       "       '1690', '6.700', '1996', '1356', '11.300', '10200', '18.800',\n",
       "       '6,500', '5969', '6,800', '4,300', '1007', '7.890', '2880', '2808',\n",
       "       '16000', '22.000', '2.369', '4.601', '8.678', '10.100', '2.827',\n",
       "       '10.368', '3.056', '1.547', '4732', '10.261', '1.488', '12.781',\n",
       "       '28.842', '600M2', '2.135', '2294', '2665', '7164', '1059', '3375',\n",
       "       '9800', '3.850', '6800', '14.600', '14500', '3570', '6.950',\n",
       "       '8.170', '2168', '3.650', '28.000', '4.100', '6330', '31/8',\n",
       "       '1,2,3', '9.100', '1.429', '3260', '100m2', '1.298', '1887',\n",
       "       '7.800', '2,100', '1.650', '1330', '3861', '10.700', '1470',\n",
       "       '4.980', '2170', '5.880', '2.077', '11,000', '7300', '13600',\n",
       "       '3750', '1257', '27.000', '1.390', '3.645', '12.300', '2499',\n",
       "       '3908', '10.050', '1960', '720m2', '1169', '9990', '1779', '1.950',\n",
       "       '1570', '1,800', '6264', '1237', '3164', '48.000', '2330', '2830',\n",
       "       '1160'], dtype=object)"
      ]
     },
     "execution_count": 20,
     "metadata": {},
     "output_type": "execute_result"
    }
   ],
   "source": [
    "rdo2.unique()"
   ]
  },
  {
   "cell_type": "code",
   "execution_count": 150,
   "metadata": {},
   "outputs": [
    {
     "data": {
      "text/plain": [
       "True"
      ]
     },
     "execution_count": 150,
     "metadata": {},
     "output_type": "execute_result"
    }
   ],
   "source": [
    "#\" \" not in \"$6.500\""
   ]
  },
  {
   "cell_type": "code",
   "execution_count": 21,
   "metadata": {},
   "outputs": [],
   "source": [
    "rdo3 = rdo2\n",
    "rdo3 = rdo3.apply(lambda x: None if x is None else x.replace(\" \",\"\").replace(\".\",\"\").replace(\"$\",\"\").replace(\"(\",\"\").replace(\",\",\"\"))"
   ]
  },
  {
   "cell_type": "code",
   "execution_count": 22,
   "metadata": {},
   "outputs": [
    {
     "data": {
      "text/plain": [
       "'2890'"
      ]
     },
     "execution_count": 22,
     "metadata": {},
     "output_type": "execute_result"
    }
   ],
   "source": [
    "rdo3[114]"
   ]
  },
  {
   "cell_type": "code",
   "execution_count": 24,
   "metadata": {},
   "outputs": [
    {
     "name": "stdout",
     "output_type": "stream",
     "text": [
      "Porcentaje de valores a recuperar: 2.0 %\n"
     ]
    }
   ],
   "source": [
    "print (\"Porcentaje de valores a recuperar:\", round(limp.value_counts().sum() / len(data.expenses),2)*100,\"%\")"
   ]
  },
  {
   "cell_type": "code",
   "execution_count": 25,
   "metadata": {},
   "outputs": [
    {
     "data": {
      "text/plain": [
       "71065"
      ]
     },
     "execution_count": 25,
     "metadata": {},
     "output_type": "execute_result"
    }
   ],
   "source": [
    "len(data.expenses[data.property_type==\"apartment\"])"
   ]
  },
  {
   "cell_type": "code",
   "execution_count": 26,
   "metadata": {},
   "outputs": [
    {
     "name": "stdout",
     "output_type": "stream",
     "text": [
      "Porcentaje de valores a recuperar entre departamentos: 4.0 %\n"
     ]
    }
   ],
   "source": [
    "print (\"Porcentaje de valores a recuperar entre departamentos:\", round(limp.value_counts().sum() / len(data.expenses[data.property_type==\"apartment\"]),2)*100,\"%\")"
   ]
  },
  {
   "cell_type": "code",
   "execution_count": 27,
   "metadata": {},
   "outputs": [
    {
     "data": {
      "text/html": [
       "<div>\n",
       "<style scoped>\n",
       "    .dataframe tbody tr th:only-of-type {\n",
       "        vertical-align: middle;\n",
       "    }\n",
       "\n",
       "    .dataframe tbody tr th {\n",
       "        vertical-align: top;\n",
       "    }\n",
       "\n",
       "    .dataframe thead th {\n",
       "        text-align: right;\n",
       "    }\n",
       "</style>\n",
       "<table border=\"1\" class=\"dataframe\">\n",
       "  <thead>\n",
       "    <tr style=\"text-align: right;\">\n",
       "      <th></th>\n",
       "      <th>description</th>\n",
       "    </tr>\n",
       "  </thead>\n",
       "  <tbody>\n",
       "  </tbody>\n",
       "</table>\n",
       "</div>"
      ],
      "text/plain": [
       "Empty DataFrame\n",
       "Columns: [description]\n",
       "Index: []"
      ]
     },
     "execution_count": 27,
     "metadata": {},
     "output_type": "execute_result"
    }
   ],
   "source": [
    "#Verifico individualmente los distitos tipos de caso con valores raros\n",
    "df = pd.DataFrame(data=rdo3,index=rdo3.index)\n",
    "df[df.description == \"229x\"]"
   ]
  },
  {
   "cell_type": "code",
   "execution_count": 211,
   "metadata": {},
   "outputs": [
    {
     "data": {
      "text/plain": [
       "'Corredor Responsable: Luis Roman Garcia - C.U.C.I.C.B.A 4040Contacto: Martín Errea - MLS ID # 420111105-58Depto de 2 ambientes con pisos de parquet. Techos altos. Muy luminoso. Cocina separada, todos los ambientes de excelentes dimensiones. Lavadero/Balcón. Baño completo. Muy buen estado. Mucha luz. Placard. Realmente depto alegre en edificio solido con excelente mantenimiento. 3er piso x escalera. Ideal primera vivienda, renta, etc. La mejor ubicación. Es un lateral con ventana y luz. 46 metros cuadrados reales. El edificio posee 2 terrazas comunes transitables y de uso comun.  Un split frio calor y otro frio solo. Expemsas 1237 ( incluye aysa). ABL  222, 82     '"
      ]
     },
     "execution_count": 211,
     "metadata": {},
     "output_type": "execute_result"
    }
   ],
   "source": [
    "#r[12807]\n",
    "#r[83219]\n",
    "#r[119655]"
   ]
  },
  {
   "cell_type": "code",
   "execution_count": 240,
   "metadata": {},
   "outputs": [
    {
     "data": {
      "text/plain": [
       "'Beruti 4600Palermo3 ambientes + Cochera$8.300 Expensas100 m2 cubiertos114 m2 totalesOrientación: OesteDiposición: ContrafrenteLiving comedor con pisos de madera.Amplios ventanale. Doble vidrio.Salida a balcón. Cerramiento vidriado.Toilette.Cocina inetgrada con muebles de alacena y bajomesada.Lavadero integrado.Dormitorio principal en suite. Vestidor.Baño completo con bañera.Segundo dormitorio con amplios placares.Segundo baño completo con bañera.Aire acondicionado en todos los ambientes.Calefacción por losa radiante central. Regulación individual.En 1° Subsuelo: Gimnasio y SUM. En Planta Baja: Pileta, Solarium, Cancha de tennis y Plaza de juegos para niños. En 1° Piso: Business center. En 33° Piso: Laundry, Pileta y Sauna. La torre cuenta con vigilancia las 24 hrs. Ascensor de servicio y 4 ascensores principales._______________Observaciones : Las superficies y medidas expresadas son aproximadas y se exponen al sólo efecto orientativo, las definitivas surgirán de la escritura y/o planos aprobados de la propiedad. Las Expensas e impuestos son valores aproximados. La presente oferta de venta está condicionada a la obtención del COTI por parte del propietario (Resol. AFIP 2371).'"
      ]
     },
     "execution_count": 240,
     "metadata": {},
     "output_type": "execute_result"
    }
   ],
   "source": [
    "#r[16253]\n",
    "#r[7825]\n",
    "#r[50798]\n",
    "#r[109823]"
   ]
  },
  {
   "cell_type": "code",
   "execution_count": 31,
   "metadata": {},
   "outputs": [
    {
     "data": {
      "text/plain": [
       "0        NaN\n",
       "1        NaN\n",
       "2        NaN\n",
       "3        NaN\n",
       "4        NaN\n",
       "          ..\n",
       "121215   NaN\n",
       "121216   NaN\n",
       "121217   NaN\n",
       "121218   NaN\n",
       "121219   NaN\n",
       "Name: description, Length: 121220, dtype: float64"
      ]
     },
     "execution_count": 31,
     "metadata": {},
     "output_type": "execute_result"
    }
   ],
   "source": [
    "rdo33 = limp.apply(lambda x: None if x is None else int(x))\n",
    "rdo33"
   ]
  },
  {
   "cell_type": "code",
   "execution_count": 270,
   "metadata": {},
   "outputs": [
    {
     "ename": "ValueError",
     "evalue": "invalid literal for int() with base 10: '/201'",
     "output_type": "error",
     "traceback": [
      "\u001b[1;31m---------------------------------------------------------------------------\u001b[0m",
      "\u001b[1;31mValueError\u001b[0m                                Traceback (most recent call last)",
      "\u001b[1;32m<ipython-input-270-ab3661d62dd2>\u001b[0m in \u001b[0;36m<module>\u001b[1;34m\u001b[0m\n\u001b[0;32m      1\u001b[0m \u001b[0mrdo32\u001b[0m \u001b[1;33m=\u001b[0m \u001b[0mrdo3\u001b[0m\u001b[1;33m[\u001b[0m\u001b[0mrdo3\u001b[0m\u001b[1;33m.\u001b[0m\u001b[0mvalues\u001b[0m \u001b[1;33m!=\u001b[0m \u001b[1;32mNone\u001b[0m\u001b[1;33m]\u001b[0m\u001b[1;33m\u001b[0m\u001b[1;33m\u001b[0m\u001b[0m\n\u001b[1;32m----> 2\u001b[1;33m \u001b[0mrdo32\u001b[0m\u001b[1;33m.\u001b[0m\u001b[0mapply\u001b[0m\u001b[1;33m(\u001b[0m\u001b[1;32mlambda\u001b[0m \u001b[0mx\u001b[0m\u001b[1;33m:\u001b[0m \u001b[0mint\u001b[0m\u001b[1;33m(\u001b[0m\u001b[0mx\u001b[0m\u001b[1;33m)\u001b[0m\u001b[1;33m)\u001b[0m\u001b[1;33m\u001b[0m\u001b[1;33m\u001b[0m\u001b[0m\n\u001b[0m\u001b[0;32m      3\u001b[0m \u001b[0mrdo32\u001b[0m\u001b[1;33m\u001b[0m\u001b[1;33m\u001b[0m\u001b[0m\n",
      "\u001b[1;32m~\\anaconda3\\envs\\dhdsblend37\\lib\\site-packages\\pandas\\core\\series.py\u001b[0m in \u001b[0;36mapply\u001b[1;34m(self, func, convert_dtype, args, **kwds)\u001b[0m\n\u001b[0;32m   3846\u001b[0m             \u001b[1;32melse\u001b[0m\u001b[1;33m:\u001b[0m\u001b[1;33m\u001b[0m\u001b[1;33m\u001b[0m\u001b[0m\n\u001b[0;32m   3847\u001b[0m                 \u001b[0mvalues\u001b[0m \u001b[1;33m=\u001b[0m \u001b[0mself\u001b[0m\u001b[1;33m.\u001b[0m\u001b[0mastype\u001b[0m\u001b[1;33m(\u001b[0m\u001b[0mobject\u001b[0m\u001b[1;33m)\u001b[0m\u001b[1;33m.\u001b[0m\u001b[0mvalues\u001b[0m\u001b[1;33m\u001b[0m\u001b[1;33m\u001b[0m\u001b[0m\n\u001b[1;32m-> 3848\u001b[1;33m                 \u001b[0mmapped\u001b[0m \u001b[1;33m=\u001b[0m \u001b[0mlib\u001b[0m\u001b[1;33m.\u001b[0m\u001b[0mmap_infer\u001b[0m\u001b[1;33m(\u001b[0m\u001b[0mvalues\u001b[0m\u001b[1;33m,\u001b[0m \u001b[0mf\u001b[0m\u001b[1;33m,\u001b[0m \u001b[0mconvert\u001b[0m\u001b[1;33m=\u001b[0m\u001b[0mconvert_dtype\u001b[0m\u001b[1;33m)\u001b[0m\u001b[1;33m\u001b[0m\u001b[1;33m\u001b[0m\u001b[0m\n\u001b[0m\u001b[0;32m   3849\u001b[0m \u001b[1;33m\u001b[0m\u001b[0m\n\u001b[0;32m   3850\u001b[0m         \u001b[1;32mif\u001b[0m \u001b[0mlen\u001b[0m\u001b[1;33m(\u001b[0m\u001b[0mmapped\u001b[0m\u001b[1;33m)\u001b[0m \u001b[1;32mand\u001b[0m \u001b[0misinstance\u001b[0m\u001b[1;33m(\u001b[0m\u001b[0mmapped\u001b[0m\u001b[1;33m[\u001b[0m\u001b[1;36m0\u001b[0m\u001b[1;33m]\u001b[0m\u001b[1;33m,\u001b[0m \u001b[0mSeries\u001b[0m\u001b[1;33m)\u001b[0m\u001b[1;33m:\u001b[0m\u001b[1;33m\u001b[0m\u001b[1;33m\u001b[0m\u001b[0m\n",
      "\u001b[1;32mpandas\\_libs\\lib.pyx\u001b[0m in \u001b[0;36mpandas._libs.lib.map_infer\u001b[1;34m()\u001b[0m\n",
      "\u001b[1;32m<ipython-input-270-ab3661d62dd2>\u001b[0m in \u001b[0;36m<lambda>\u001b[1;34m(x)\u001b[0m\n\u001b[0;32m      1\u001b[0m \u001b[0mrdo32\u001b[0m \u001b[1;33m=\u001b[0m \u001b[0mrdo3\u001b[0m\u001b[1;33m[\u001b[0m\u001b[0mrdo3\u001b[0m\u001b[1;33m.\u001b[0m\u001b[0mvalues\u001b[0m \u001b[1;33m!=\u001b[0m \u001b[1;32mNone\u001b[0m\u001b[1;33m]\u001b[0m\u001b[1;33m\u001b[0m\u001b[1;33m\u001b[0m\u001b[0m\n\u001b[1;32m----> 2\u001b[1;33m \u001b[0mrdo32\u001b[0m\u001b[1;33m.\u001b[0m\u001b[0mapply\u001b[0m\u001b[1;33m(\u001b[0m\u001b[1;32mlambda\u001b[0m \u001b[0mx\u001b[0m\u001b[1;33m:\u001b[0m \u001b[0mint\u001b[0m\u001b[1;33m(\u001b[0m\u001b[0mx\u001b[0m\u001b[1;33m)\u001b[0m\u001b[1;33m)\u001b[0m\u001b[1;33m\u001b[0m\u001b[1;33m\u001b[0m\u001b[0m\n\u001b[0m\u001b[0;32m      3\u001b[0m \u001b[0mrdo32\u001b[0m\u001b[1;33m\u001b[0m\u001b[1;33m\u001b[0m\u001b[0m\n",
      "\u001b[1;31mValueError\u001b[0m: invalid literal for int() with base 10: '/201'"
     ]
    }
   ],
   "source": [
    "rdo32 = rdo3[rdo3.values != None]\n",
    "rdo32.apply(lambda x: int(x))\n",
    "rdo32"
   ]
  },
  {
   "cell_type": "code",
   "execution_count": 279,
   "metadata": {},
   "outputs": [
    {
     "data": {
      "text/plain": [
       "50        6500\n",
       "52        1350\n",
       "74         800\n",
       "114       2890\n",
       "157       2400\n",
       "          ... \n",
       "120431     450\n",
       "120805    3400\n",
       "120861     500\n",
       "120935    2000\n",
       "120973    1600\n",
       "Name: description, Length: 3604, dtype: object"
      ]
     },
     "execution_count": 279,
     "metadata": {},
     "output_type": "execute_result"
    }
   ],
   "source": [
    "rdo33 = rdo33[rdo33.values != None]\n",
    "rdo33.apply(lambda x: int(x))\n",
    "rdo33"
   ]
  },
  {
   "cell_type": "code",
   "execution_count": 295,
   "metadata": {},
   "outputs": [
    {
     "data": {
      "text/plain": [
       "500     156\n",
       "1500    141\n",
       "2000    112\n",
       "1000    109\n",
       "800      97\n",
       "3000     94\n",
       "1200     89\n",
       "1800     81\n",
       "2500     80\n",
       "5000     78\n",
       "600      78\n",
       "700      75\n",
       "4000     73\n",
       "1100     72\n",
       "1600     71\n",
       "900      69\n",
       "3500     66\n",
       "4500     64\n",
       "1400     59\n",
       "1700     59\n",
       "Name: description, dtype: int64"
      ]
     },
     "execution_count": 295,
     "metadata": {},
     "output_type": "execute_result"
    }
   ],
   "source": [
    "rdo33.value_counts().head(20)"
   ]
  },
  {
   "cell_type": "code",
   "execution_count": 293,
   "metadata": {},
   "outputs": [
    {
     "data": {
      "image/png": "[encoded data removed]",
      "text/plain": [
       "<Figure size 432x288 with 1 Axes>"
      ]
     },
     "metadata": {
      "needs_background": "light"
     },
     "output_type": "display_data"
    }
   ],
   "source": [
    "#plt.figure\n",
    "sns.barplot(rdo33.head(20).values,rdo33.value_counts().head(20))\n",
    "plt.xticks(rotation=80);"
   ]
  },
  {
   "cell_type": "code",
   "execution_count": null,
   "metadata": {},
   "outputs": [],
   "source": []
  }
 ],
 "metadata": {
  "kernelspec": {
   "display_name": "Python 3",
   "language": "python",
   "name": "python3"
  },
  "language_info": {
   "codemirror_mode": {
    "name": "ipython",
    "version": 3
   },
   "file_extension": ".py",
   "mimetype": "text/x-python",
   "name": "python",
   "nbconvert_exporter": "python",
   "pygments_lexer": "ipython3",
   "version": "3.7.9"
  }
 },
 "nbformat": 4,
 "nbformat_minor": 4
}

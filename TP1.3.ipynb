{
 "cells": [
  {
   "cell_type": "code",
   "execution_count": 4,
   "metadata": {},
   "outputs": [],
   "source": [
    "import pandas as pd\n",
    "import re\n",
    "import numpy as np"
   ]
  },
  {
   "cell_type": "code",
   "execution_count": 5,
   "metadata": {},
   "outputs": [
    {
     "name": "stdout",
     "output_type": "stream",
     "text": [
      "Unnamed: 0                      int64\n",
      "operation                      object\n",
      "property_type                  object\n",
      "place_name                     object\n",
      "place_with_parent_names        object\n",
      "country_name                   object\n",
      "state_name                     object\n",
      "geonames_id                   float64\n",
      "lat-lon                        object\n",
      "lat                           float64\n",
      "lon                           float64\n",
      "price                         float64\n",
      "currency                       object\n",
      "price_aprox_local_currency    float64\n",
      "price_aprox_usd               float64\n",
      "surface_total_in_m2           float64\n",
      "surface_covered_in_m2         float64\n",
      "price_usd_per_m2              float64\n",
      "price_per_m2                  float64\n",
      "floor                         float64\n",
      "rooms                         float64\n",
      "expenses                      float64\n",
      "properati_url                  object\n",
      "description                    object\n",
      "title                          object\n",
      "image_thumbnail                object\n",
      "dtype: object\n"
     ]
    }
   ],
   "source": [
    "data_location = \"C:/Users/Ideapad-320/Desktop/Capacitaciones/curso data Sciencie/desafio 1/properati.csv\"\n",
    "data = pd.read_csv(data_location, sep=\",\")\n",
    "print(data.dtypes)"
   ]
  },
  {
   "cell_type": "code",
   "execution_count": 5,
   "metadata": {},
   "outputs": [
    {
     "data": {
      "text/plain": [
       "(121220, 26)"
      ]
     },
     "execution_count": 5,
     "metadata": {},
     "output_type": "execute_result"
    }
   ],
   "source": [
    "data.shape\n"
   ]
  },
  {
   "cell_type": "code",
   "execution_count": 47,
   "metadata": {
    "collapsed": true,
    "jupyter": {
     "outputs_hidden": true
    }
   },
   "outputs": [
    {
     "data": {
      "text/html": [
       "<div>\n",
       "<style scoped>\n",
       "    .dataframe tbody tr th:only-of-type {\n",
       "        vertical-align: middle;\n",
       "    }\n",
       "\n",
       "    .dataframe tbody tr th {\n",
       "        vertical-align: top;\n",
       "    }\n",
       "\n",
       "    .dataframe thead th {\n",
       "        text-align: right;\n",
       "    }\n",
       "</style>\n",
       "<table border=\"1\" class=\"dataframe\">\n",
       "  <thead>\n",
       "    <tr style=\"text-align: right;\">\n",
       "      <th></th>\n",
       "      <th>Unnamed: 0</th>\n",
       "      <th>operation</th>\n",
       "      <th>property_type</th>\n",
       "      <th>place_name</th>\n",
       "      <th>place_with_parent_names</th>\n",
       "      <th>country_name</th>\n",
       "      <th>state_name</th>\n",
       "      <th>geonames_id</th>\n",
       "      <th>lat-lon</th>\n",
       "      <th>lat</th>\n",
       "      <th>...</th>\n",
       "      <th>price_usd_per_m2</th>\n",
       "      <th>price_per_m2</th>\n",
       "      <th>floor</th>\n",
       "      <th>rooms</th>\n",
       "      <th>expenses</th>\n",
       "      <th>properati_url</th>\n",
       "      <th>description</th>\n",
       "      <th>title</th>\n",
       "      <th>image_thumbnail</th>\n",
       "      <th>Descripcion_copia</th>\n",
       "    </tr>\n",
       "  </thead>\n",
       "  <tbody>\n",
       "    <tr>\n",
       "      <th>51715</th>\n",
       "      <td>51715</td>\n",
       "      <td>sell</td>\n",
       "      <td>apartment</td>\n",
       "      <td>Nuñez</td>\n",
       "      <td>|Argentina|Capital Federal|Nuñez|</td>\n",
       "      <td>Argentina</td>\n",
       "      <td>Capital Federal</td>\n",
       "      <td>3430348.0</td>\n",
       "      <td>-34.543726,-58.462132</td>\n",
       "      <td>-34.543726</td>\n",
       "      <td>...</td>\n",
       "      <td>NaN</td>\n",
       "      <td>3257.142857</td>\n",
       "      <td>NaN</td>\n",
       "      <td>1.0</td>\n",
       "      <td>NaN</td>\n",
       "      <td>http://www.properati.com.ar/19hmm_venta_depart...</td>\n",
       "      <td>Venta - Departamento - Argentina, Buenos Aires...</td>\n",
       "      <td>Departamento en Venta ubicado en Núñez</td>\n",
       "      <td>https://thumbs4.properati.com/9/1EZ4LMkbavrBik...</td>\n",
       "      <td>Venta - Departamento - Argentina, Buenos Aires...</td>\n",
       "    </tr>\n",
       "    <tr>\n",
       "      <th>105021</th>\n",
       "      <td>105021</td>\n",
       "      <td>sell</td>\n",
       "      <td>apartment</td>\n",
       "      <td>Güemes</td>\n",
       "      <td>|Argentina|Buenos Aires Costa Atlántica|Mar de...</td>\n",
       "      <td>Argentina</td>\n",
       "      <td>Buenos Aires Costa Atlántica</td>\n",
       "      <td>3854454.0</td>\n",
       "      <td>NaN</td>\n",
       "      <td>NaN</td>\n",
       "      <td>...</td>\n",
       "      <td>2410.714286</td>\n",
       "      <td>2547.169811</td>\n",
       "      <td>NaN</td>\n",
       "      <td>NaN</td>\n",
       "      <td>NaN</td>\n",
       "      <td>http://www.properati.com.ar/1bu1o_venta_depart...</td>\n",
       "      <td>SEMIPISO 2 AMB EN CONSTRUCCION ZONA GUEMES ALD...</td>\n",
       "      <td>SEMIPISO 2 AMB EN CONSTRUCCION ZONA GUEMES ALDREY</td>\n",
       "      <td>https://thumbs4.properati.com/5/JzWTgkTmfLzZjL...</td>\n",
       "      <td>SEMIPISO 2 AMB EN CONSTRUCCION ZONA GUEMES ALD...</td>\n",
       "    </tr>\n",
       "    <tr>\n",
       "      <th>91077</th>\n",
       "      <td>91077</td>\n",
       "      <td>sell</td>\n",
       "      <td>apartment</td>\n",
       "      <td>Córdoba</td>\n",
       "      <td>|Argentina|Córdoba|Córdoba|</td>\n",
       "      <td>Argentina</td>\n",
       "      <td>Córdoba</td>\n",
       "      <td>3860259.0</td>\n",
       "      <td>NaN</td>\n",
       "      <td>NaN</td>\n",
       "      <td>...</td>\n",
       "      <td>1426.476087</td>\n",
       "      <td>26590.909091</td>\n",
       "      <td>NaN</td>\n",
       "      <td>NaN</td>\n",
       "      <td>NaN</td>\n",
       "      <td>http://www.properati.com.ar/1bb30_venta_depart...</td>\n",
       "      <td>Departamento en venta de 1 Dormitorio - Posesi...</td>\n",
       "      <td>Depto a estrenar a una cuadra de Cañada/ Barri...</td>\n",
       "      <td>https://thumbs4.properati.com/6/uwk6cdQ777HdS0...</td>\n",
       "      <td>Departamento en venta de 1 Dormitorio - Posesi...</td>\n",
       "    </tr>\n",
       "    <tr>\n",
       "      <th>64749</th>\n",
       "      <td>64749</td>\n",
       "      <td>sell</td>\n",
       "      <td>apartment</td>\n",
       "      <td>Córdoba</td>\n",
       "      <td>|Argentina|Córdoba|Córdoba|</td>\n",
       "      <td>Argentina</td>\n",
       "      <td>Córdoba</td>\n",
       "      <td>3860259.0</td>\n",
       "      <td>NaN</td>\n",
       "      <td>NaN</td>\n",
       "      <td>...</td>\n",
       "      <td>NaN</td>\n",
       "      <td>NaN</td>\n",
       "      <td>NaN</td>\n",
       "      <td>NaN</td>\n",
       "      <td>1500.0</td>\n",
       "      <td>http://www.properati.com.ar/1ab88_venta_depart...</td>\n",
       "      <td>OPORTUNIDAD!!! Departamento a estrenar en OPER...</td>\n",
       "      <td>DEPARTAMENTO DE UN DORM.  EN VENTA EN OPERA LU...</td>\n",
       "      <td>https://thumbs4.properati.com/0/NZc4jBGQxDUmNE...</td>\n",
       "      <td>OPORTUNIDAD!!! Departamento a estrenar en OPER...</td>\n",
       "    </tr>\n",
       "    <tr>\n",
       "      <th>120640</th>\n",
       "      <td>120640</td>\n",
       "      <td>sell</td>\n",
       "      <td>house</td>\n",
       "      <td>Mendiolaza</td>\n",
       "      <td>|Argentina|Córdoba|Mendiolaza|</td>\n",
       "      <td>Argentina</td>\n",
       "      <td>Córdoba</td>\n",
       "      <td>3844424.0</td>\n",
       "      <td>NaN</td>\n",
       "      <td>NaN</td>\n",
       "      <td>...</td>\n",
       "      <td>NaN</td>\n",
       "      <td>NaN</td>\n",
       "      <td>NaN</td>\n",
       "      <td>NaN</td>\n",
       "      <td>NaN</td>\n",
       "      <td>http://www.properati.com.ar/1ci7p_venta_casa_m...</td>\n",
       "      <td>Es una muy linda casa, construida en dos plant...</td>\n",
       "      <td>Casa - Mendiolaza</td>\n",
       "      <td>https://thumbs4.properati.com/2/tGkN7C_7NZV3MM...</td>\n",
       "      <td>Es una muy linda casa, construida en dos plant...</td>\n",
       "    </tr>\n",
       "    <tr>\n",
       "      <th>9870</th>\n",
       "      <td>9870</td>\n",
       "      <td>sell</td>\n",
       "      <td>house</td>\n",
       "      <td>Capital Federal</td>\n",
       "      <td>|Argentina|Capital Federal|</td>\n",
       "      <td>Argentina</td>\n",
       "      <td>Capital Federal</td>\n",
       "      <td>3433955.0</td>\n",
       "      <td>NaN</td>\n",
       "      <td>NaN</td>\n",
       "      <td>...</td>\n",
       "      <td>465.909091</td>\n",
       "      <td>1863.636364</td>\n",
       "      <td>NaN</td>\n",
       "      <td>NaN</td>\n",
       "      <td>NaN</td>\n",
       "      <td>http://www.properati.com.ar/165ra_venta_casa_b...</td>\n",
       "      <td>Excelente casa con detalles de categorÃ­a en i...</td>\n",
       "      <td>Casa 880m² con Dependencias, Argentina, Capita...</td>\n",
       "      <td>https://thumbs4.properati.com/6/o-CIgU6WeuNIfn...</td>\n",
       "      <td>Excelente casa con detalles de categorÃ­a en i...</td>\n",
       "    </tr>\n",
       "    <tr>\n",
       "      <th>18375</th>\n",
       "      <td>18375</td>\n",
       "      <td>sell</td>\n",
       "      <td>PH</td>\n",
       "      <td>Quilmes</td>\n",
       "      <td>|Argentina|Bs.As. G.B.A. Zona Sur|Quilmes|</td>\n",
       "      <td>Argentina</td>\n",
       "      <td>Bs.As. G.B.A. Zona Sur</td>\n",
       "      <td>3429651.0</td>\n",
       "      <td>-34.713702,-58.29204</td>\n",
       "      <td>-34.713702</td>\n",
       "      <td>...</td>\n",
       "      <td>NaN</td>\n",
       "      <td>NaN</td>\n",
       "      <td>NaN</td>\n",
       "      <td>3.0</td>\n",
       "      <td>NaN</td>\n",
       "      <td>http://www.properati.com.ar/175z7_venta_ph_qui...</td>\n",
       "      <td>Corredor Responsable: Martin Veltri - C.M.Q 80...</td>\n",
       "      <td>VENTA EXCELENTE DPTO 3 AMB A ESTRENAR BERNAL</td>\n",
       "      <td>https://thumbs4.properati.com/9/QvfsvsS6SXODWX...</td>\n",
       "      <td>Corredor Responsable: Martin Veltri - C.M.Q 80...</td>\n",
       "    </tr>\n",
       "    <tr>\n",
       "      <th>59987</th>\n",
       "      <td>59987</td>\n",
       "      <td>sell</td>\n",
       "      <td>house</td>\n",
       "      <td>Escobar</td>\n",
       "      <td>|Argentina|Bs.As. G.B.A. Zona Norte|Escobar|</td>\n",
       "      <td>Argentina</td>\n",
       "      <td>Bs.As. G.B.A. Zona Norte</td>\n",
       "      <td>3434130.0</td>\n",
       "      <td>-34.3675988,-58.742715</td>\n",
       "      <td>-34.367599</td>\n",
       "      <td>...</td>\n",
       "      <td>NaN</td>\n",
       "      <td>980.000000</td>\n",
       "      <td>NaN</td>\n",
       "      <td>NaN</td>\n",
       "      <td>NaN</td>\n",
       "      <td>http://www.properati.com.ar/19yey_venta_casa_e...</td>\n",
       "      <td>Excelente Oportunidad! Casa de 3 dormitorios, ...</td>\n",
       "      <td>OPORTUNIDAD! Venta casa Maschwitz Village</td>\n",
       "      <td>https://thumbs4.properati.com/6/QD-4jSRpPMqTR_...</td>\n",
       "      <td>Excelente Oportunidad! Casa de 3 dormitorios, ...</td>\n",
       "    </tr>\n",
       "    <tr>\n",
       "      <th>28594</th>\n",
       "      <td>28594</td>\n",
       "      <td>sell</td>\n",
       "      <td>house</td>\n",
       "      <td>Mar del Plata</td>\n",
       "      <td>|Argentina|Buenos Aires Costa Atlántica|Mar de...</td>\n",
       "      <td>Argentina</td>\n",
       "      <td>Buenos Aires Costa Atlántica</td>\n",
       "      <td>3430863.0</td>\n",
       "      <td>-38.1084567712,-57.6107375334</td>\n",
       "      <td>-38.108457</td>\n",
       "      <td>...</td>\n",
       "      <td>147.286822</td>\n",
       "      <td>1266.666667</td>\n",
       "      <td>NaN</td>\n",
       "      <td>3.0</td>\n",
       "      <td>NaN</td>\n",
       "      <td>http://www.properati.com.ar/17wry_venta_casa_m...</td>\n",
       "      <td>Chalet nuevo sobre lote 15 x 43. En planta baj...</td>\n",
       "      <td>CHALET 3 AMB. EN VENTA - ACANTILADOS GOLF</td>\n",
       "      <td>https://thumbs4.properati.com/8/Vy8VYL_Tglq0UW...</td>\n",
       "      <td>Chalet nuevo sobre lote 15 x 43. En planta baj...</td>\n",
       "    </tr>\n",
       "    <tr>\n",
       "      <th>70131</th>\n",
       "      <td>70131</td>\n",
       "      <td>sell</td>\n",
       "      <td>house</td>\n",
       "      <td>San Carlos de Bariloche</td>\n",
       "      <td>|Argentina|Río Negro|San Carlos de Bariloche|S...</td>\n",
       "      <td>Argentina</td>\n",
       "      <td>Río Negro</td>\n",
       "      <td>3837856.0</td>\n",
       "      <td>NaN</td>\n",
       "      <td>NaN</td>\n",
       "      <td>...</td>\n",
       "      <td>NaN</td>\n",
       "      <td>NaN</td>\n",
       "      <td>NaN</td>\n",
       "      <td>NaN</td>\n",
       "      <td>NaN</td>\n",
       "      <td>http://www.properati.com.ar/1aj4j_venta_casa_s...</td>\n",
       "      <td>Casa principal de 320 m2 con 6 dormitorios (1 ...</td>\n",
       "      <td>Excelente chacra a 16 km del centro de Bariloche!</td>\n",
       "      <td>https://thumbs4.properati.com/9/yJi2KDG44H9lWr...</td>\n",
       "      <td>Casa principal de 320 m2 con 6 dormitorios (1 ...</td>\n",
       "    </tr>\n",
       "  </tbody>\n",
       "</table>\n",
       "<p>10 rows × 27 columns</p>\n",
       "</div>"
      ],
      "text/plain": [
       "        Unnamed: 0 operation property_type               place_name  \\\n",
       "51715        51715      sell     apartment                    Nuñez   \n",
       "105021      105021      sell     apartment                   Güemes   \n",
       "91077        91077      sell     apartment                  Córdoba   \n",
       "64749        64749      sell     apartment                  Córdoba   \n",
       "120640      120640      sell         house               Mendiolaza   \n",
       "9870          9870      sell         house          Capital Federal   \n",
       "18375        18375      sell            PH                  Quilmes   \n",
       "59987        59987      sell         house                  Escobar   \n",
       "28594        28594      sell         house            Mar del Plata   \n",
       "70131        70131      sell         house  San Carlos de Bariloche   \n",
       "\n",
       "                                  place_with_parent_names country_name  \\\n",
       "51715                   |Argentina|Capital Federal|Nuñez|    Argentina   \n",
       "105021  |Argentina|Buenos Aires Costa Atlántica|Mar de...    Argentina   \n",
       "91077                         |Argentina|Córdoba|Córdoba|    Argentina   \n",
       "64749                         |Argentina|Córdoba|Córdoba|    Argentina   \n",
       "120640                     |Argentina|Córdoba|Mendiolaza|    Argentina   \n",
       "9870                          |Argentina|Capital Federal|    Argentina   \n",
       "18375          |Argentina|Bs.As. G.B.A. Zona Sur|Quilmes|    Argentina   \n",
       "59987        |Argentina|Bs.As. G.B.A. Zona Norte|Escobar|    Argentina   \n",
       "28594   |Argentina|Buenos Aires Costa Atlántica|Mar de...    Argentina   \n",
       "70131   |Argentina|Río Negro|San Carlos de Bariloche|S...    Argentina   \n",
       "\n",
       "                          state_name  geonames_id  \\\n",
       "51715                Capital Federal    3430348.0   \n",
       "105021  Buenos Aires Costa Atlántica    3854454.0   \n",
       "91077                        Córdoba    3860259.0   \n",
       "64749                        Córdoba    3860259.0   \n",
       "120640                       Córdoba    3844424.0   \n",
       "9870                 Capital Federal    3433955.0   \n",
       "18375         Bs.As. G.B.A. Zona Sur    3429651.0   \n",
       "59987       Bs.As. G.B.A. Zona Norte    3434130.0   \n",
       "28594   Buenos Aires Costa Atlántica    3430863.0   \n",
       "70131                      Río Negro    3837856.0   \n",
       "\n",
       "                              lat-lon        lat  ...  price_usd_per_m2  \\\n",
       "51715           -34.543726,-58.462132 -34.543726  ...               NaN   \n",
       "105021                            NaN        NaN  ...       2410.714286   \n",
       "91077                             NaN        NaN  ...       1426.476087   \n",
       "64749                             NaN        NaN  ...               NaN   \n",
       "120640                            NaN        NaN  ...               NaN   \n",
       "9870                              NaN        NaN  ...        465.909091   \n",
       "18375            -34.713702,-58.29204 -34.713702  ...               NaN   \n",
       "59987          -34.3675988,-58.742715 -34.367599  ...               NaN   \n",
       "28594   -38.1084567712,-57.6107375334 -38.108457  ...        147.286822   \n",
       "70131                             NaN        NaN  ...               NaN   \n",
       "\n",
       "        price_per_m2 floor  rooms  expenses  \\\n",
       "51715    3257.142857   NaN    1.0       NaN   \n",
       "105021   2547.169811   NaN    NaN       NaN   \n",
       "91077   26590.909091   NaN    NaN       NaN   \n",
       "64749            NaN   NaN    NaN    1500.0   \n",
       "120640           NaN   NaN    NaN       NaN   \n",
       "9870     1863.636364   NaN    NaN       NaN   \n",
       "18375            NaN   NaN    3.0       NaN   \n",
       "59987     980.000000   NaN    NaN       NaN   \n",
       "28594    1266.666667   NaN    3.0       NaN   \n",
       "70131            NaN   NaN    NaN       NaN   \n",
       "\n",
       "                                            properati_url  \\\n",
       "51715   http://www.properati.com.ar/19hmm_venta_depart...   \n",
       "105021  http://www.properati.com.ar/1bu1o_venta_depart...   \n",
       "91077   http://www.properati.com.ar/1bb30_venta_depart...   \n",
       "64749   http://www.properati.com.ar/1ab88_venta_depart...   \n",
       "120640  http://www.properati.com.ar/1ci7p_venta_casa_m...   \n",
       "9870    http://www.properati.com.ar/165ra_venta_casa_b...   \n",
       "18375   http://www.properati.com.ar/175z7_venta_ph_qui...   \n",
       "59987   http://www.properati.com.ar/19yey_venta_casa_e...   \n",
       "28594   http://www.properati.com.ar/17wry_venta_casa_m...   \n",
       "70131   http://www.properati.com.ar/1aj4j_venta_casa_s...   \n",
       "\n",
       "                                              description  \\\n",
       "51715   Venta - Departamento - Argentina, Buenos Aires...   \n",
       "105021  SEMIPISO 2 AMB EN CONSTRUCCION ZONA GUEMES ALD...   \n",
       "91077   Departamento en venta de 1 Dormitorio - Posesi...   \n",
       "64749   OPORTUNIDAD!!! Departamento a estrenar en OPER...   \n",
       "120640  Es una muy linda casa, construida en dos plant...   \n",
       "9870    Excelente casa con detalles de categorÃ­a en i...   \n",
       "18375   Corredor Responsable: Martin Veltri - C.M.Q 80...   \n",
       "59987   Excelente Oportunidad! Casa de 3 dormitorios, ...   \n",
       "28594   Chalet nuevo sobre lote 15 x 43. En planta baj...   \n",
       "70131   Casa principal de 320 m2 con 6 dormitorios (1 ...   \n",
       "\n",
       "                                                    title  \\\n",
       "51715              Departamento en Venta ubicado en Núñez   \n",
       "105021  SEMIPISO 2 AMB EN CONSTRUCCION ZONA GUEMES ALDREY   \n",
       "91077   Depto a estrenar a una cuadra de Cañada/ Barri...   \n",
       "64749   DEPARTAMENTO DE UN DORM.  EN VENTA EN OPERA LU...   \n",
       "120640                                  Casa - Mendiolaza   \n",
       "9870    Casa 880m² con Dependencias, Argentina, Capita...   \n",
       "18375        VENTA EXCELENTE DPTO 3 AMB A ESTRENAR BERNAL   \n",
       "59987          OPORTUNIDAD! Venta casa Maschwitz Village    \n",
       "28594           CHALET 3 AMB. EN VENTA - ACANTILADOS GOLF   \n",
       "70131   Excelente chacra a 16 km del centro de Bariloche!   \n",
       "\n",
       "                                          image_thumbnail  \\\n",
       "51715   https://thumbs4.properati.com/9/1EZ4LMkbavrBik...   \n",
       "105021  https://thumbs4.properati.com/5/JzWTgkTmfLzZjL...   \n",
       "91077   https://thumbs4.properati.com/6/uwk6cdQ777HdS0...   \n",
       "64749   https://thumbs4.properati.com/0/NZc4jBGQxDUmNE...   \n",
       "120640  https://thumbs4.properati.com/2/tGkN7C_7NZV3MM...   \n",
       "9870    https://thumbs4.properati.com/6/o-CIgU6WeuNIfn...   \n",
       "18375   https://thumbs4.properati.com/9/QvfsvsS6SXODWX...   \n",
       "59987   https://thumbs4.properati.com/6/QD-4jSRpPMqTR_...   \n",
       "28594   https://thumbs4.properati.com/8/Vy8VYL_Tglq0UW...   \n",
       "70131   https://thumbs4.properati.com/9/yJi2KDG44H9lWr...   \n",
       "\n",
       "                                        Descripcion_copia  \n",
       "51715   Venta - Departamento - Argentina, Buenos Aires...  \n",
       "105021  SEMIPISO 2 AMB EN CONSTRUCCION ZONA GUEMES ALD...  \n",
       "91077   Departamento en venta de 1 Dormitorio - Posesi...  \n",
       "64749   OPORTUNIDAD!!! Departamento a estrenar en OPER...  \n",
       "120640  Es una muy linda casa, construida en dos plant...  \n",
       "9870    Excelente casa con detalles de categorÃ­a en i...  \n",
       "18375   Corredor Responsable: Martin Veltri - C.M.Q 80...  \n",
       "59987   Excelente Oportunidad! Casa de 3 dormitorios, ...  \n",
       "28594   Chalet nuevo sobre lote 15 x 43. En planta baj...  \n",
       "70131   Casa principal de 320 m2 con 6 dormitorios (1 ...  \n",
       "\n",
       "[10 rows x 27 columns]"
      ]
     },
     "execution_count": 47,
     "metadata": {},
     "output_type": "execute_result"
    }
   ],
   "source": [
    "data.sample(10)"
   ]
  },
  {
   "cell_type": "code",
   "execution_count": 57,
   "metadata": {},
   "outputs": [
    {
     "name": "stdout",
     "output_type": "stream",
     "text": [
      "floor                         0.934837\n",
      "expenses                      0.882346\n",
      "rooms                         0.609058\n",
      "price_usd_per_m2              0.433947\n",
      "lon                           0.425260\n",
      "lat-lon                       0.425260\n",
      "lat                           0.425260\n",
      "surface_total_in_m2           0.324435\n",
      "price_per_m2                  0.276869\n",
      "currency                      0.168380\n",
      "price_aprox_usd               0.168372\n",
      "price_aprox_local_currency    0.168372\n",
      "price                         0.168372\n",
      "surface_covered_in_m2         0.164222\n",
      "geonames_id                   0.154405\n",
      "image_thumbnail               0.025672\n",
      "place_name                    0.000190\n",
      "description                   0.000016\n",
      "title                         0.000000\n",
      "properati_url                 0.000000\n",
      "state_name                    0.000000\n",
      "country_name                  0.000000\n",
      "place_with_parent_names       0.000000\n",
      "property_type                 0.000000\n",
      "operation                     0.000000\n",
      "Unnamed: 0                    0.000000\n",
      "dtype: float64\n"
     ]
    }
   ],
   "source": [
    "porcentaje_nulos= data.isnull().sum()/data.shape[0]\n",
    "print(porcentaje_nulos.sort_values(ascending= False))"
   ]
  },
  {
   "cell_type": "code",
   "execution_count": 78,
   "metadata": {},
   "outputs": [
    {
     "data": {
      "text/plain": [
       "Unnamed: 0                         0\n",
       "operation                          0\n",
       "property_type                      0\n",
       "place_name                        23\n",
       "place_with_parent_names            0\n",
       "country_name                       0\n",
       "state_name                         0\n",
       "geonames_id                    18717\n",
       "lat-lon                        51550\n",
       "lat                            51550\n",
       "lon                            51550\n",
       "price                          20410\n",
       "currency                       20411\n",
       "price_aprox_local_currency     20410\n",
       "price_aprox_usd                20410\n",
       "surface_total_in_m2            39328\n",
       "surface_covered_in_m2          19907\n",
       "price_usd_per_m2               52603\n",
       "price_per_m2                   33562\n",
       "floor                         113321\n",
       "rooms                          73830\n",
       "expenses                      106958\n",
       "properati_url                      0\n",
       "description                        2\n",
       "title                              0\n",
       "image_thumbnail                 3112\n",
       "rooms_aux                      73830\n",
       "rooms_copia                    73830\n",
       "rooms_final                    73830\n",
       "dtype: int64"
      ]
     },
     "execution_count": 78,
     "metadata": {},
     "output_type": "execute_result"
    }
   ],
   "source": [
    "data.isnull().sum()\n"
   ]
  },
  {
   "cell_type": "code",
   "execution_count": 48,
   "metadata": {},
   "outputs": [
    {
     "name": "stdout",
     "output_type": "stream",
     "text": [
      "0             <re.Match object; span=(0, 5), match='2 AMB'>\n",
      "1          <re.Match object; span=(12, 18), match='2 dorm'>\n",
      "2             <re.Match object; span=(0, 5), match='2 AMB'>\n",
      "3             <re.Match object; span=(3, 8), match='3 amb'>\n",
      "4            <re.Match object; span=(6, 11), match='2 AMB'>\n",
      "                                ...                        \n",
      "121138    <re.Match object; span=(32, 43), match='2 AMBI...\n",
      "121144     <re.Match object; span=(25, 31), match='3 DORM'>\n",
      "121153    <re.Match object; span=(26, 37), match='3 AMBI...\n",
      "121215    <re.Match object; span=(31, 42), match='3 ambi...\n",
      "121218        <re.Match object; span=(0, 5), match='2 amb'>\n",
      "Name: title, Length: 43215, dtype: object\n"
     ]
    }
   ],
   "source": [
    "#buscamos en title la cantidad de ambientes de los deptos en Tittle \n",
    "\n",
    "pattern = r\"(\\d)\\s\\w*\"\n",
    "\n",
    "pattern_rooms_regex = re.compile(pattern , re.IGNORECASE)\n",
    "\n",
    "\n",
    "pattern_matches1= data.title.apply(lambda x: x if x is np.NaN else pattern_rooms_regex.search(x))\n",
    "\n",
    "rooms_matches1 = pattern_matches1.loc[mask_notnull_rooms1]\n",
    "\n",
    "print(rooms_matches1)\n",
    "\n"
   ]
  },
  {
   "cell_type": "code",
   "execution_count": 49,
   "metadata": {},
   "outputs": [
    {
     "data": {
      "text/plain": [
       "43215"
      ]
     },
     "execution_count": 49,
     "metadata": {},
     "output_type": "execute_result"
    }
   ],
   "source": [
    "#cuantos valores de ambientes puedo obtener\n",
    "rooms_matches1.value_counts().sum()\n"
   ]
  },
  {
   "cell_type": "code",
   "execution_count": 42,
   "metadata": {},
   "outputs": [
    {
     "name": "stdout",
     "output_type": "stream",
     "text": [
      "0         <re.Match object; span=(0, 11), match='2 AMBIE...\n",
      "1                                                      None\n",
      "2         <re.Match object; span=(0, 11), match='2 AMBIE...\n",
      "3                                                      None\n",
      "4                                                      None\n",
      "                                ...                        \n",
      "121138                                                 None\n",
      "121144                                                 None\n",
      "121153                                                 None\n",
      "121215                                                 None\n",
      "121218        <re.Match object; span=(0, 5), match='2 Amb'>\n",
      "Name: description, Length: 43215, dtype: object\n"
     ]
    }
   ],
   "source": [
    "#busco lo mismo en descripcion para ver si me trae mas valores\n",
    "\n",
    "pattern = r\"(\\d)(\\s\\w*)\"\n",
    "\n",
    "pattern_rooms_regex = re.compile(pattern , re.IGNORECASE)\n",
    "\n",
    "\n",
    "pattern_matches2= data.description.apply(lambda x: x if x is np.NaN else pattern_rooms_regex.match(x))\n",
    "\n",
    "rooms_matches2 = pattern_matches2.loc[mask_notnull_rooms1]\n",
    "\n",
    "print(rooms_matches2) "
   ]
  },
  {
   "cell_type": "code",
   "execution_count": 43,
   "metadata": {},
   "outputs": [
    {
     "data": {
      "text/plain": [
       "1206"
      ]
     },
     "execution_count": 43,
     "metadata": {},
     "output_type": "execute_result"
    }
   ],
   "source": [
    "#cuantos valores de ambientes puedo obtener\n",
    "rooms_matches2.value_counts().sum()"
   ]
  },
  {
   "cell_type": "code",
   "execution_count": null,
   "metadata": {},
   "outputs": [],
   "source": [
    "# me quedo con lo encontrado en tittle que son mas datos "
   ]
  },
  {
   "cell_type": "code",
   "execution_count": 14,
   "metadata": {},
   "outputs": [
    {
     "data": {
      "text/plain": [
       "0         False\n",
       "1         False\n",
       "2         False\n",
       "3         False\n",
       "4         False\n",
       "          ...  \n",
       "121215    False\n",
       "121216    False\n",
       "121217    False\n",
       "121218    False\n",
       "121219    False\n",
       "Name: rooms, Length: 121220, dtype: bool"
      ]
     },
     "execution_count": 14,
     "metadata": {},
     "output_type": "execute_result"
    }
   ],
   "source": [
    "# observo de la columna original de rooms cuales eran vacios\n",
    "mask_rooms= data.rooms.notnull()\n",
    "mask_rooms"
   ]
  },
  {
   "cell_type": "code",
   "execution_count": 50,
   "metadata": {},
   "outputs": [
    {
     "data": {
      "text/plain": [
       "0          True\n",
       "1          True\n",
       "2          True\n",
       "3          True\n",
       "4          True\n",
       "          ...  \n",
       "121215     True\n",
       "121216    False\n",
       "121217    False\n",
       "121218     True\n",
       "121219    False\n",
       "Name: title, Length: 121220, dtype: bool"
      ]
     },
     "execution_count": 50,
     "metadata": {},
     "output_type": "execute_result"
    }
   ],
   "source": [
    "#hacemos una mascara para ver los no nulos encontrados \n",
    "mask_notnull_rooms1= resultado_rooms1.notnull()\n",
    "mask_notnull_rooms1"
   ]
  },
  {
   "cell_type": "code",
   "execution_count": 44,
   "metadata": {},
   "outputs": [
    {
     "name": "stdout",
     "output_type": "stream",
     "text": [
      "0         False\n",
      "1         False\n",
      "2         False\n",
      "3         False\n",
      "4         False\n",
      "          ...  \n",
      "121215    False\n",
      "121216    False\n",
      "121217    False\n",
      "121218    False\n",
      "121219    False\n",
      "Length: 121220, dtype: bool\n"
     ]
    }
   ],
   "source": [
    "#busco comparar si los datos que encontre eran NaN en la columna original y gane datos\n",
    "resultado= (mask_rooms) & (mask_notnull_rooms1)\n",
    "print(resultado)"
   ]
  },
  {
   "cell_type": "code",
   "execution_count": 45,
   "metadata": {},
   "outputs": [
    {
     "data": {
      "text/plain": [
       "False    97386\n",
       "True     23834\n",
       "dtype: int64"
      ]
     },
     "execution_count": 45,
     "metadata": {},
     "output_type": "execute_result"
    }
   ],
   "source": [
    "# sumo cuantos True encontro\n",
    "\n",
    "resultado.value_counts()"
   ]
  },
  {
   "cell_type": "code",
   "execution_count": null,
   "metadata": {},
   "outputs": [],
   "source": [
    "# De los  43215 datos encontrados 23834 ya los teniamos! por lo que en realidad encontramos 19381 datos nuevos de rooms\n"
   ]
  },
  {
   "cell_type": "code",
   "execution_count": 60,
   "metadata": {},
   "outputs": [
    {
     "data": {
      "text/plain": [
       "0         2\n",
       "1         2\n",
       "2         2\n",
       "3         3\n",
       "4         2\n",
       "         ..\n",
       "121138    2\n",
       "121144    3\n",
       "121153    3\n",
       "121215    3\n",
       "121218    2\n",
       "Name: title, Length: 43215, dtype: object"
      ]
     },
     "execution_count": 60,
     "metadata": {},
     "output_type": "execute_result"
    }
   ],
   "source": [
    "# extraigo los datos enocntrados\n",
    "\n",
    "rooms_aux1= pattern_matches1[mask_notnull_rooms1].apply(lambda x: x.group(1))\n",
    "rooms_aux1"
   ]
  },
  {
   "cell_type": "code",
   "execution_count": 81,
   "metadata": {},
   "outputs": [
    {
     "data": {
      "text/plain": [
       "47390"
      ]
     },
     "execution_count": 81,
     "metadata": {},
     "output_type": "execute_result"
    }
   ],
   "source": [
    "# poner los datos encontrados en rooms\n",
    "\n",
    "data[\"rooms_copia\"]= data[\"rooms\"]\n",
    "\n",
    "data.rooms_copia.value_counts().sum()"
   ]
  },
  {
   "cell_type": "code",
   "execution_count": 79,
   "metadata": {},
   "outputs": [
    {
     "data": {
      "text/plain": [
       "0        NaN\n",
       "1        NaN\n",
       "2        NaN\n",
       "3        NaN\n",
       "4        NaN\n",
       "          ..\n",
       "121215   NaN\n",
       "121216   NaN\n",
       "121217   NaN\n",
       "121218   NaN\n",
       "121219   NaN\n",
       "Name: rooms_final, Length: 121220, dtype: float64"
      ]
     },
     "execution_count": 79,
     "metadata": {},
     "output_type": "execute_result"
    }
   ],
   "source": [
    "data[\"rooms_final\"]= data.rooms_copia.apply(lambda x: x if x != np.nan else x.group(1))\n",
    "\n",
    "data.rooms_final"
   ]
  },
  {
   "cell_type": "code",
   "execution_count": 80,
   "metadata": {},
   "outputs": [
    {
     "data": {
      "text/plain": [
       "47390"
      ]
     },
     "execution_count": 80,
     "metadata": {},
     "output_type": "execute_result"
    }
   ],
   "source": [
    "data.rooms_final.value_counts().sum()"
   ]
  },
  {
   "cell_type": "code",
   "execution_count": null,
   "metadata": {},
   "outputs": [],
   "source": []
  }
 ],
 "metadata": {
  "kernelspec": {
   "display_name": "Python 3",
   "language": "python",
   "name": "python3"
  },
  "language_info": {
   "codemirror_mode": {
    "name": "ipython",
    "version": 3
   },
   "file_extension": ".py",
   "mimetype": "text/x-python",
   "name": "python",
   "nbconvert_exporter": "python",
   "pygments_lexer": "ipython3",
   "version": "3.8.3"
  }
 },
 "nbformat": 4,
 "nbformat_minor": 4
}
